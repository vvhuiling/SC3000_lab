{
 "cells": [
  {
   "cell_type": "markdown",
   "metadata": {
    "colab_type": "text",
    "id": "view-in-github"
   },
   "source": [
    "<a href=\"https://colab.research.google.com/github/yue-zhongqi/cartpole_colab/blob/main/cartpole.ipynb\" target=\"_parent\"><img src=\"https://colab.research.google.com/assets/colab-badge.svg\" alt=\"Open In Colab\"/></a>"
   ]
  },
  {
   "cell_type": "markdown",
   "metadata": {
    "id": "ZauhjPSfX7pI"
   },
   "source": [
    "# Tutorial and Sample Code for Balancing a Pole on a Cart"
   ]
  },
  {
   "cell_type": "markdown",
   "metadata": {
    "id": "UBiYOoesYMvr"
   },
   "source": [
    "## Installing dependencies:\n",
    "## Notice: following code only include necessities to load a pre-trained model, please refer to note DQN2 to training part"
   ]
  },
  {
   "cell_type": "code",
   "execution_count": 1,
   "metadata": {},
   "outputs": [],
   "source": [
    "# This would ignore some warning that will not affect code\n",
    "import warnings\n",
    "warnings.filterwarnings(\"ignore\")\n",
    "# This would disable some OpenMP lib conflict that cause kernel crash, if environment is stable, it is unnecessary\n",
    "import os    \n",
    "os.environ['KMP_DUPLICATE_LIB_OK'] = 'True'"
   ]
  },
  {
   "cell_type": "code",
   "execution_count": 2,
   "metadata": {},
   "outputs": [],
   "source": [
    "import torch\n",
    "import torch.nn as nn\n",
    "import torch.optim as optim\n",
    "import torch.nn.functional as F\n",
    "import numpy as np\n",
    "import random\n",
    "from collections import deque\n",
    "import gym"
   ]
  },
  {
   "cell_type": "code",
   "execution_count": 4,
   "metadata": {},
   "outputs": [],
   "source": [
    "class DQN(nn.Module):\n",
    "    def __init__(self, input_dim, output_dim):\n",
    "        super(DQN, self).__init__()\n",
    "        self.fc1 = nn.Linear(input_dim, 128)\n",
    "        self.fc2 = nn.Linear(128, 128)\n",
    "        self.fc3 = nn.Linear(128, output_dim)\n",
    "        \n",
    "    def forward(self, x):\n",
    "        x = F.relu(self.fc1(x))\n",
    "        x = F.relu(self.fc2(x))\n",
    "        return self.fc3(x)"
   ]
  },
  {
   "cell_type": "code",
   "execution_count": 6,
   "metadata": {},
   "outputs": [],
   "source": [
    "def get_action(observation, model):\n",
    "    observation_tensor = torch.FloatTensor(observation).unsqueeze(0)\n",
    "    with torch.no_grad():\n",
    "        q_values = model(observation_tensor)\n",
    "        action = q_values.max(1)[1].item()\n",
    "    return action"
   ]
  },
  {
   "cell_type": "markdown",
   "metadata": {
    "id": "RwKbYeTgbaTA"
   },
   "source": [
    "## Importing dependencies and define helper functions"
   ]
  },
  {
   "cell_type": "code",
   "execution_count": 3,
   "metadata": {
    "id": "j6KpgCLGYWmj"
   },
   "outputs": [
    {
     "name": "stdout",
     "output_type": "stream",
     "text": [
      "WARNING:tensorflow:From C:\\Users\\GuShucheng\\anaconda3\\Lib\\site-packages\\keras\\src\\losses.py:2976: The name tf.losses.sparse_softmax_cross_entropy is deprecated. Please use tf.compat.v1.losses.sparse_softmax_cross_entropy instead.\n",
      "\n"
     ]
    }
   ],
   "source": [
    "import gym\n",
    "from gym import logger as gymlogger\n",
    "from gym.wrappers import RecordVideo\n",
    "gymlogger.set_level(40) #error only\n",
    "import tensorflow as tf\n",
    "import numpy as np\n",
    "import random\n",
    "import matplotlib\n",
    "import matplotlib.pyplot as plt\n",
    "%matplotlib inline\n",
    "import math\n",
    "import glob\n",
    "import io\n",
    "import base64\n",
    "from IPython.display import HTML\n",
    "from IPython import display as ipythondisplay\n",
    "\n",
    "def show_video():\n",
    "  mp4list = glob.glob('video/*.mp4')\n",
    "  if len(mp4list) > 0:\n",
    "    mp4 = mp4list[0]\n",
    "    video = io.open(mp4, 'r+b').read()\n",
    "    encoded = base64.b64encode(video)\n",
    "    ipythondisplay.display(HTML(data='''<video alt=\"test\" autoplay \n",
    "                loop controls style=\"height: 400px;\">\n",
    "                <source src=\"data:video/mp4;base64,{0}\" type=\"video/mp4\" />\n",
    "             </video>'''.format(encoded.decode('ascii'))))\n",
    "  else: \n",
    "    print(\"Could not find video\")"
   ]
  },
  {
   "cell_type": "markdown",
   "metadata": {
    "id": "ehbqP9CXbmo7"
   },
   "source": [
    "## Tutorial: Loading CartPole environment"
   ]
  },
  {
   "cell_type": "code",
   "execution_count": 7,
   "metadata": {
    "id": "Go12dH4qbwBy"
   },
   "outputs": [],
   "source": [
    "env = gym.make(\"CartPole-v1\")"
   ]
  },
  {
   "cell_type": "code",
   "execution_count": 8,
   "metadata": {},
   "outputs": [
    {
     "data": {
      "text/plain": [
       "DQN(\n",
       "  (fc1): Linear(in_features=4, out_features=128, bias=True)\n",
       "  (fc2): Linear(in_features=128, out_features=128, bias=True)\n",
       "  (fc3): Linear(in_features=128, out_features=2, bias=True)\n",
       ")"
      ]
     },
     "execution_count": 8,
     "metadata": {},
     "output_type": "execute_result"
    }
   ],
   "source": [
    "state_dim = env.observation_space.shape[0]\n",
    "action_dim = env.action_space.n\n",
    "\n",
    "model = DQN(state_dim, action_dim)\n",
    "model.load_state_dict(torch.load('model_weights.pth'))\n",
    "model.eval()"
   ]
  },
  {
   "cell_type": "code",
   "execution_count": null,
   "metadata": {
    "colab": {
     "base_uri": "https://localhost:8080/"
    },
    "id": "AVucQVRwf6Jm",
    "outputId": "72f0b7d5-7cb5-4e37-da3d-997c1bfb4641"
   },
   "outputs": [
    {
     "name": "stdout",
     "output_type": "stream",
     "text": [
      "Cumulative reward for this round: 10.0\n"
     ]
    }
   ],
   "source": [
    "observation = env.reset()\n",
    "cumulative_reward = 0\n",
    "done = False\n",
    "while not done:\n",
    "    observation, reward, done, info = env.step(0)\n",
    "    cumulative_reward += reward\n",
    "print(\"Cumulative reward for this round:\", cumulative_reward)"
   ]
  },
  {
   "cell_type": "markdown",
   "metadata": {
    "id": "2oIzK9SzhlWN"
   },
   "source": [
    "## Task 1: Development of an RL agent"
   ]
  },
  {
   "cell_type": "markdown",
   "metadata": {
    "id": "RAi7KKwNiegR"
   },
   "source": [
    "For Task 1, we can show the observation and chosen action below:"
   ]
  },
  {
   "cell_type": "code",
   "execution_count": 9,
   "metadata": {
    "colab": {
     "base_uri": "https://localhost:8080/"
    },
    "id": "ae2ia-vUiNKJ",
    "outputId": "22c614ca-5ba0-43d3-d27a-d79073b5d04e",
    "scrolled": false
   },
   "outputs": [
    {
     "name": "stdout",
     "output_type": "stream",
     "text": [
      "Observation: [ 0.02040378 -0.01287918  0.0160006  -0.04395234]\n",
      "Chosen action: 0\n"
     ]
    }
   ],
   "source": [
    "observation = env.reset()\n",
    "action = get_action(observation,model)\n",
    "print(\"Observation:\", observation)\n",
    "print(\"Chosen action:\", action)"
   ]
  },
  {
   "cell_type": "markdown",
   "metadata": {
    "id": "-XtIQ0Rti1gm"
   },
   "source": [
    "## Task 2: Demonstrate the effectiveness of the RL agent"
   ]
  },
  {
   "cell_type": "markdown",
   "metadata": {
    "id": "djBEShf0kGI4"
   },
   "source": [
    "For this task, use the agent developed in Task 1 to play the game for 100 episodes (refer to tutorial for how to play a round), record the cumulative reward for each round, and plot the reward for each round. A sample plotting code is given below. Note that you must include code to play for 100 episodes and use the code to obtain round_results for plotting. DO NOT record the round results in advance and paste the results to the notebook."
   ]
  },
  {
   "cell_type": "markdown",
   "metadata": {
    "id": "XndSYH7wlvn7"
   },
   "source": [
    "Print the average reward over the 100 episodes."
   ]
  },
  {
   "cell_type": "code",
   "execution_count": 10,
   "metadata": {},
   "outputs": [
    {
     "name": "stderr",
     "output_type": "stream",
     "text": [
      "C:\\Users\\GuShucheng\\anaconda3\\Lib\\site-packages\\gym\\utils\\passive_env_checker.py:241: DeprecationWarning: `np.bool8` is a deprecated alias for `np.bool_`.  (Deprecated NumPy 1.24)\n",
      "  if not isinstance(terminated, (bool, np.bool8)):\n"
     ]
    },
    {
     "data": {
      "image/png": "[encoded data removed]",
      "text/plain": [
       "<Figure size 1000x500 with 1 Axes>"
      ]
     },
     "metadata": {},
     "output_type": "display_data"
    },
    {
     "name": "stdout",
     "output_type": "stream",
     "text": [
      "Average Reward: 500.0\n"
     ]
    }
   ],
   "source": [
    "def test_dqn(env,model, episode=10):\n",
    "    episode_rewards = []\n",
    "    for ep in range(episode):\n",
    "        state = env.reset()\n",
    "        total_reward = 0\n",
    "        while True:\n",
    "            action = get_action(state, model)\n",
    "            next_state, reward, done, _ = env.step(action)\n",
    "            total_reward += reward\n",
    "            state = next_state\n",
    "            if done:\n",
    "                break\n",
    "        episode_rewards.append(total_reward)\n",
    "    \n",
    "    plt.figure(figsize=(10, 5))\n",
    "    plt.plot(episode_rewards, label='Reward per Episode')\n",
    "    plt.title('Cumulative reward for each episode')\n",
    "    plt.ylabel('Cumulative reward')\n",
    "    plt.xlabel('episode')\n",
    "    plt.legend()\n",
    "    plt.show()\n",
    "    average_reward = sum(episode_rewards) / len(episode_rewards)\n",
    "    print(f\"Average Reward: {average_reward}\")\n",
    "\n",
    "    \n",
    "test_dqn(env,model, 100)"
   ]
  },
  {
   "cell_type": "markdown",
   "metadata": {
    "id": "Yg0DCT38lFA6"
   },
   "source": [
    "## Task 3: Render one episode played by the agent"
   ]
  },
  {
   "cell_type": "markdown",
   "metadata": {
    "id": "vx1awMr9lc_w"
   },
   "source": [
    "Plug your agent to the code below to obtain rendered result."
   ]
  },
  {
   "cell_type": "code",
   "execution_count": 12,
   "metadata": {
    "colab": {
     "base_uri": "https://localhost:8080/",
     "height": 421
    },
    "id": "LYyavfbIa47D",
    "outputId": "10c2f1e7-f3b9-4975-ed25-7c380966a56c"
   },
   "outputs": [
    {
     "name": "stderr",
     "output_type": "stream",
     "text": [
      "C:\\Users\\GuShucheng\\anaconda3\\Lib\\site-packages\\gym\\utils\\passive_env_checker.py:241: DeprecationWarning: `np.bool8` is a deprecated alias for `np.bool_`.  (Deprecated NumPy 1.24)\n",
      "  if not isinstance(terminated, (bool, np.bool8)):\n"
     ]
    },
    {
     "data": {
      "text/html": [
       "<video alt=\"test\" autoplay \n",
       "                loop controls style=\"height: 400px;\">\n",
       "                <source src=\"data:video/mp4;base64,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\" type=\"video/mp4\" />\n",
       "             </video>"
      ],
      "text/plain": [
       "<IPython.core.display.HTML object>"
      ]
     },
     "metadata": {},
     "output_type": "display_data"
    }
   ],
   "source": [
    "env = RecordVideo(gym.make(\"CartPole-v1\"), \"./video\")\n",
    "observation = env.reset()\n",
    "while True:\n",
    "    env.render()\n",
    "    #your agent goes here\n",
    "    action = get_action(observation,model)\n",
    "    observation, reward, done, info = env.step(action) \n",
    "    if done: \n",
    "      break;    \n",
    "env.close()\n",
    "show_video()\n",
    "\n",
    "\n",
    "#Uncomment following in case you cannot display video in Google Colab\n",
    "\n",
    "# from google.colab import files\n",
    "# video_path = 'video/CartPole-v1.mp4'\n",
    "# import glob\n",
    "# video_files = glob.glob('video/*.mp4')\n",
    "# print(video_files)\n",
    "# if video_files:\n",
    "#     video_path = video_files[0]\n",
    "#     files.download(video_path)\n",
    "# else:\n",
    "#     print(\"No video files found\")\n",
    "\n"
   ]
  },
  {
   "cell_type": "code",
   "execution_count": null,
   "metadata": {},
   "outputs": [],
   "source": []
  }
 ],
 "metadata": {
  "colab": {
   "authorship_tag": "ABX9TyNczA+lJQOKjOo4XtzYjWQc",
   "include_colab_link": true,
   "provenance": []
  },
  "kernelspec": {
   "display_name": "Python 3 (ipykernel)",
   "language": "python",
   "name": "python3"
  },
  "language_info": {
   "codemirror_mode": {
    "name": "ipython",
    "version": 3
   },
   "file_extension": ".py",
   "mimetype": "text/x-python",
   "name": "python",
   "nbconvert_exporter": "python",
   "pygments_lexer": "ipython3",
   "version": "3.11.5"
  }
 },
 "nbformat": 4,
 "nbformat_minor": 1
}
